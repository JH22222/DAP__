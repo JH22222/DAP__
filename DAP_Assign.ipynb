{
  "nbformat": 4,
  "nbformat_minor": 0,
  "metadata": {
    "colab": {
      "name": "DAP_Assign.ipynb",
      "provenance": [],
      "collapsed_sections": [],
      "authorship_tag": "ABX9TyPLS2sJD9DJDzg+9f1wvANX",
      "include_colab_link": true
    },
    "kernelspec": {
      "name": "python3",
      "display_name": "Python 3"
    },
    "language_info": {
      "name": "python"
    }
  },
  "cells": [
    {
      "cell_type": "markdown",
      "metadata": {
        "id": "view-in-github",
        "colab_type": "text"
      },
      "source": [
        "<a href=\"https://colab.research.google.com/github/JH22222/DAP__/blob/main/DAP_Assign.ipynb\" target=\"_parent\"><img src=\"https://colab.research.google.com/assets/colab-badge.svg\" alt=\"Open In Colab\"/></a>"
      ]
    },
    {
      "cell_type": "code",
      "metadata": {
        "id": "UrIRFTZZQEJW"
      },
      "source": [
        "import pandas as pd\n",
        "import numpy as np"
      ],
      "execution_count": 21,
      "outputs": []
    },
    {
      "cell_type": "markdown",
      "metadata": {
        "id": "EObemFsuhVNZ"
      },
      "source": [
        "## [Get the Data](https://www.kaggle.com/russellyates88/suicide-rates-overview-1985-to-2016/version/1?select=master.csv)\n",
        "\n",
        "---\n",
        "1985년 ~ 2016년 자살 개요\n",
        "연도별, 국가별 자살과 사회경제적 정보를 비교.\n",
        "\n",
        "국가, 연도, 성별, 연령 그룹, 자살 수, 인구, 자살률, 국가 연도 복합 키, 연도별 HDI(행복지수), 연간 GDP, 1인당 GDP, 세대(연령 그룹 평균 기준)."
      ]
    },
    {
      "cell_type": "code",
      "metadata": {
        "colab": {
          "base_uri": "https://localhost:8080/",
          "height": 623
        },
        "id": "a1_uyKgDffS3",
        "outputId": "10d86d43-79b1-4e0b-f084-4e44b1df9bc2"
      },
      "source": [
        "df = pd.read_csv('https://raw.githubusercontent.com/JH22222/toSubmission/main/master.csv')\n",
        "df"
      ],
      "execution_count": 22,
      "outputs": [
        {
          "output_type": "execute_result",
          "data": {
            "text/html": [
              "<div>\n",
              "<style scoped>\n",
              "    .dataframe tbody tr th:only-of-type {\n",
              "        vertical-align: middle;\n",
              "    }\n",
              "\n",
              "    .dataframe tbody tr th {\n",
              "        vertical-align: top;\n",
              "    }\n",
              "\n",
              "    .dataframe thead th {\n",
              "        text-align: right;\n",
              "    }\n",
              "</style>\n",
              "<table border=\"1\" class=\"dataframe\">\n",
              "  <thead>\n",
              "    <tr style=\"text-align: right;\">\n",
              "      <th></th>\n",
              "      <th>country</th>\n",
              "      <th>year</th>\n",
              "      <th>sex</th>\n",
              "      <th>age</th>\n",
              "      <th>suicides_no</th>\n",
              "      <th>population</th>\n",
              "      <th>suicides/100k pop</th>\n",
              "      <th>country-year</th>\n",
              "      <th>HDI for year</th>\n",
              "      <th>gdp_for_year ($)</th>\n",
              "      <th>gdp_per_capita ($)</th>\n",
              "      <th>generation</th>\n",
              "    </tr>\n",
              "  </thead>\n",
              "  <tbody>\n",
              "    <tr>\n",
              "      <th>0</th>\n",
              "      <td>Albania</td>\n",
              "      <td>1987</td>\n",
              "      <td>male</td>\n",
              "      <td>15-24 years</td>\n",
              "      <td>21</td>\n",
              "      <td>312900</td>\n",
              "      <td>6.71</td>\n",
              "      <td>Albania1987</td>\n",
              "      <td>NaN</td>\n",
              "      <td>2,156,624,900</td>\n",
              "      <td>796</td>\n",
              "      <td>Generation X</td>\n",
              "    </tr>\n",
              "    <tr>\n",
              "      <th>1</th>\n",
              "      <td>Albania</td>\n",
              "      <td>1987</td>\n",
              "      <td>male</td>\n",
              "      <td>35-54 years</td>\n",
              "      <td>16</td>\n",
              "      <td>308000</td>\n",
              "      <td>5.19</td>\n",
              "      <td>Albania1987</td>\n",
              "      <td>NaN</td>\n",
              "      <td>2,156,624,900</td>\n",
              "      <td>796</td>\n",
              "      <td>Silent</td>\n",
              "    </tr>\n",
              "    <tr>\n",
              "      <th>2</th>\n",
              "      <td>Albania</td>\n",
              "      <td>1987</td>\n",
              "      <td>female</td>\n",
              "      <td>15-24 years</td>\n",
              "      <td>14</td>\n",
              "      <td>289700</td>\n",
              "      <td>4.83</td>\n",
              "      <td>Albania1987</td>\n",
              "      <td>NaN</td>\n",
              "      <td>2,156,624,900</td>\n",
              "      <td>796</td>\n",
              "      <td>Generation X</td>\n",
              "    </tr>\n",
              "    <tr>\n",
              "      <th>3</th>\n",
              "      <td>Albania</td>\n",
              "      <td>1987</td>\n",
              "      <td>male</td>\n",
              "      <td>75+ years</td>\n",
              "      <td>1</td>\n",
              "      <td>21800</td>\n",
              "      <td>4.59</td>\n",
              "      <td>Albania1987</td>\n",
              "      <td>NaN</td>\n",
              "      <td>2,156,624,900</td>\n",
              "      <td>796</td>\n",
              "      <td>G.I. Generation</td>\n",
              "    </tr>\n",
              "    <tr>\n",
              "      <th>4</th>\n",
              "      <td>Albania</td>\n",
              "      <td>1987</td>\n",
              "      <td>male</td>\n",
              "      <td>25-34 years</td>\n",
              "      <td>9</td>\n",
              "      <td>274300</td>\n",
              "      <td>3.28</td>\n",
              "      <td>Albania1987</td>\n",
              "      <td>NaN</td>\n",
              "      <td>2,156,624,900</td>\n",
              "      <td>796</td>\n",
              "      <td>Boomers</td>\n",
              "    </tr>\n",
              "    <tr>\n",
              "      <th>...</th>\n",
              "      <td>...</td>\n",
              "      <td>...</td>\n",
              "      <td>...</td>\n",
              "      <td>...</td>\n",
              "      <td>...</td>\n",
              "      <td>...</td>\n",
              "      <td>...</td>\n",
              "      <td>...</td>\n",
              "      <td>...</td>\n",
              "      <td>...</td>\n",
              "      <td>...</td>\n",
              "      <td>...</td>\n",
              "    </tr>\n",
              "    <tr>\n",
              "      <th>27815</th>\n",
              "      <td>Uzbekistan</td>\n",
              "      <td>2014</td>\n",
              "      <td>female</td>\n",
              "      <td>35-54 years</td>\n",
              "      <td>107</td>\n",
              "      <td>3620833</td>\n",
              "      <td>2.96</td>\n",
              "      <td>Uzbekistan2014</td>\n",
              "      <td>0.675</td>\n",
              "      <td>63,067,077,179</td>\n",
              "      <td>2309</td>\n",
              "      <td>Generation X</td>\n",
              "    </tr>\n",
              "    <tr>\n",
              "      <th>27816</th>\n",
              "      <td>Uzbekistan</td>\n",
              "      <td>2014</td>\n",
              "      <td>female</td>\n",
              "      <td>75+ years</td>\n",
              "      <td>9</td>\n",
              "      <td>348465</td>\n",
              "      <td>2.58</td>\n",
              "      <td>Uzbekistan2014</td>\n",
              "      <td>0.675</td>\n",
              "      <td>63,067,077,179</td>\n",
              "      <td>2309</td>\n",
              "      <td>Silent</td>\n",
              "    </tr>\n",
              "    <tr>\n",
              "      <th>27817</th>\n",
              "      <td>Uzbekistan</td>\n",
              "      <td>2014</td>\n",
              "      <td>male</td>\n",
              "      <td>5-14 years</td>\n",
              "      <td>60</td>\n",
              "      <td>2762158</td>\n",
              "      <td>2.17</td>\n",
              "      <td>Uzbekistan2014</td>\n",
              "      <td>0.675</td>\n",
              "      <td>63,067,077,179</td>\n",
              "      <td>2309</td>\n",
              "      <td>Generation Z</td>\n",
              "    </tr>\n",
              "    <tr>\n",
              "      <th>27818</th>\n",
              "      <td>Uzbekistan</td>\n",
              "      <td>2014</td>\n",
              "      <td>female</td>\n",
              "      <td>5-14 years</td>\n",
              "      <td>44</td>\n",
              "      <td>2631600</td>\n",
              "      <td>1.67</td>\n",
              "      <td>Uzbekistan2014</td>\n",
              "      <td>0.675</td>\n",
              "      <td>63,067,077,179</td>\n",
              "      <td>2309</td>\n",
              "      <td>Generation Z</td>\n",
              "    </tr>\n",
              "    <tr>\n",
              "      <th>27819</th>\n",
              "      <td>Uzbekistan</td>\n",
              "      <td>2014</td>\n",
              "      <td>female</td>\n",
              "      <td>55-74 years</td>\n",
              "      <td>21</td>\n",
              "      <td>1438935</td>\n",
              "      <td>1.46</td>\n",
              "      <td>Uzbekistan2014</td>\n",
              "      <td>0.675</td>\n",
              "      <td>63,067,077,179</td>\n",
              "      <td>2309</td>\n",
              "      <td>Boomers</td>\n",
              "    </tr>\n",
              "  </tbody>\n",
              "</table>\n",
              "<p>27820 rows × 12 columns</p>\n",
              "</div>"
            ],
            "text/plain": [
              "          country  year  ... gdp_per_capita ($)       generation\n",
              "0         Albania  1987  ...                796     Generation X\n",
              "1         Albania  1987  ...                796           Silent\n",
              "2         Albania  1987  ...                796     Generation X\n",
              "3         Albania  1987  ...                796  G.I. Generation\n",
              "4         Albania  1987  ...                796          Boomers\n",
              "...           ...   ...  ...                ...              ...\n",
              "27815  Uzbekistan  2014  ...               2309     Generation X\n",
              "27816  Uzbekistan  2014  ...               2309           Silent\n",
              "27817  Uzbekistan  2014  ...               2309     Generation Z\n",
              "27818  Uzbekistan  2014  ...               2309     Generation Z\n",
              "27819  Uzbekistan  2014  ...               2309          Boomers\n",
              "\n",
              "[27820 rows x 12 columns]"
            ]
          },
          "metadata": {},
          "execution_count": 22
        }
      ]
    },
    {
      "cell_type": "markdown",
      "metadata": {
        "id": "S86W-mO3Cn_R"
      },
      "source": [
        "## 한국의 지표들 추출"
      ]
    },
    {
      "cell_type": "code",
      "metadata": {
        "colab": {
          "base_uri": "https://localhost:8080/",
          "height": 623
        },
        "id": "vWRp4CZJu3yA",
        "outputId": "94bef13b-046c-4868-e0b3-edba350d2cef"
      },
      "source": [
        "kor = (df.country == 'Republic of Korea')\n",
        "df_kor = df[kor]\n",
        "df_kor"
      ],
      "execution_count": 23,
      "outputs": [
        {
          "output_type": "execute_result",
          "data": {
            "text/html": [
              "<div>\n",
              "<style scoped>\n",
              "    .dataframe tbody tr th:only-of-type {\n",
              "        vertical-align: middle;\n",
              "    }\n",
              "\n",
              "    .dataframe tbody tr th {\n",
              "        vertical-align: top;\n",
              "    }\n",
              "\n",
              "    .dataframe thead th {\n",
              "        text-align: right;\n",
              "    }\n",
              "</style>\n",
              "<table border=\"1\" class=\"dataframe\">\n",
              "  <thead>\n",
              "    <tr style=\"text-align: right;\">\n",
              "      <th></th>\n",
              "      <th>country</th>\n",
              "      <th>year</th>\n",
              "      <th>sex</th>\n",
              "      <th>age</th>\n",
              "      <th>suicides_no</th>\n",
              "      <th>population</th>\n",
              "      <th>suicides/100k pop</th>\n",
              "      <th>country-year</th>\n",
              "      <th>HDI for year</th>\n",
              "      <th>gdp_for_year ($)</th>\n",
              "      <th>gdp_per_capita ($)</th>\n",
              "      <th>generation</th>\n",
              "    </tr>\n",
              "  </thead>\n",
              "  <tbody>\n",
              "    <tr>\n",
              "      <th>20230</th>\n",
              "      <td>Republic of Korea</td>\n",
              "      <td>1985</td>\n",
              "      <td>male</td>\n",
              "      <td>75+ years</td>\n",
              "      <td>42</td>\n",
              "      <td>154800</td>\n",
              "      <td>27.13</td>\n",
              "      <td>Republic of Korea1985</td>\n",
              "      <td>NaN</td>\n",
              "      <td>100,273,097,170</td>\n",
              "      <td>2731</td>\n",
              "      <td>G.I. Generation</td>\n",
              "    </tr>\n",
              "    <tr>\n",
              "      <th>20231</th>\n",
              "      <td>Republic of Korea</td>\n",
              "      <td>1985</td>\n",
              "      <td>male</td>\n",
              "      <td>55-74 years</td>\n",
              "      <td>393</td>\n",
              "      <td>1498300</td>\n",
              "      <td>26.23</td>\n",
              "      <td>Republic of Korea1985</td>\n",
              "      <td>NaN</td>\n",
              "      <td>100,273,097,170</td>\n",
              "      <td>2731</td>\n",
              "      <td>G.I. Generation</td>\n",
              "    </tr>\n",
              "    <tr>\n",
              "      <th>20232</th>\n",
              "      <td>Republic of Korea</td>\n",
              "      <td>1985</td>\n",
              "      <td>male</td>\n",
              "      <td>35-54 years</td>\n",
              "      <td>903</td>\n",
              "      <td>4285700</td>\n",
              "      <td>21.07</td>\n",
              "      <td>Republic of Korea1985</td>\n",
              "      <td>NaN</td>\n",
              "      <td>100,273,097,170</td>\n",
              "      <td>2731</td>\n",
              "      <td>Silent</td>\n",
              "    </tr>\n",
              "    <tr>\n",
              "      <th>20233</th>\n",
              "      <td>Republic of Korea</td>\n",
              "      <td>1985</td>\n",
              "      <td>male</td>\n",
              "      <td>25-34 years</td>\n",
              "      <td>655</td>\n",
              "      <td>3616800</td>\n",
              "      <td>18.11</td>\n",
              "      <td>Republic of Korea1985</td>\n",
              "      <td>NaN</td>\n",
              "      <td>100,273,097,170</td>\n",
              "      <td>2731</td>\n",
              "      <td>Boomers</td>\n",
              "    </tr>\n",
              "    <tr>\n",
              "      <th>20234</th>\n",
              "      <td>Republic of Korea</td>\n",
              "      <td>1985</td>\n",
              "      <td>male</td>\n",
              "      <td>15-24 years</td>\n",
              "      <td>678</td>\n",
              "      <td>4413000</td>\n",
              "      <td>15.36</td>\n",
              "      <td>Republic of Korea1985</td>\n",
              "      <td>NaN</td>\n",
              "      <td>100,273,097,170</td>\n",
              "      <td>2731</td>\n",
              "      <td>Generation X</td>\n",
              "    </tr>\n",
              "    <tr>\n",
              "      <th>...</th>\n",
              "      <td>...</td>\n",
              "      <td>...</td>\n",
              "      <td>...</td>\n",
              "      <td>...</td>\n",
              "      <td>...</td>\n",
              "      <td>...</td>\n",
              "      <td>...</td>\n",
              "      <td>...</td>\n",
              "      <td>...</td>\n",
              "      <td>...</td>\n",
              "      <td>...</td>\n",
              "      <td>...</td>\n",
              "    </tr>\n",
              "    <tr>\n",
              "      <th>20597</th>\n",
              "      <td>Republic of Korea</td>\n",
              "      <td>2015</td>\n",
              "      <td>female</td>\n",
              "      <td>35-54 years</td>\n",
              "      <td>1372</td>\n",
              "      <td>8337331</td>\n",
              "      <td>16.46</td>\n",
              "      <td>Republic of Korea2015</td>\n",
              "      <td>NaN</td>\n",
              "      <td>1,382,764,027,114</td>\n",
              "      <td>28410</td>\n",
              "      <td>Generation X</td>\n",
              "    </tr>\n",
              "    <tr>\n",
              "      <th>20598</th>\n",
              "      <td>Republic of Korea</td>\n",
              "      <td>2015</td>\n",
              "      <td>male</td>\n",
              "      <td>15-24 years</td>\n",
              "      <td>421</td>\n",
              "      <td>3580725</td>\n",
              "      <td>11.76</td>\n",
              "      <td>Republic of Korea2015</td>\n",
              "      <td>NaN</td>\n",
              "      <td>1,382,764,027,114</td>\n",
              "      <td>28410</td>\n",
              "      <td>Millenials</td>\n",
              "    </tr>\n",
              "    <tr>\n",
              "      <th>20599</th>\n",
              "      <td>Republic of Korea</td>\n",
              "      <td>2015</td>\n",
              "      <td>female</td>\n",
              "      <td>15-24 years</td>\n",
              "      <td>256</td>\n",
              "      <td>3211732</td>\n",
              "      <td>7.97</td>\n",
              "      <td>Republic of Korea2015</td>\n",
              "      <td>NaN</td>\n",
              "      <td>1,382,764,027,114</td>\n",
              "      <td>28410</td>\n",
              "      <td>Millenials</td>\n",
              "    </tr>\n",
              "    <tr>\n",
              "      <th>20600</th>\n",
              "      <td>Republic of Korea</td>\n",
              "      <td>2015</td>\n",
              "      <td>male</td>\n",
              "      <td>5-14 years</td>\n",
              "      <td>17</td>\n",
              "      <td>2523952</td>\n",
              "      <td>0.67</td>\n",
              "      <td>Republic of Korea2015</td>\n",
              "      <td>NaN</td>\n",
              "      <td>1,382,764,027,114</td>\n",
              "      <td>28410</td>\n",
              "      <td>Generation Z</td>\n",
              "    </tr>\n",
              "    <tr>\n",
              "      <th>20601</th>\n",
              "      <td>Republic of Korea</td>\n",
              "      <td>2015</td>\n",
              "      <td>female</td>\n",
              "      <td>5-14 years</td>\n",
              "      <td>14</td>\n",
              "      <td>2347429</td>\n",
              "      <td>0.60</td>\n",
              "      <td>Republic of Korea2015</td>\n",
              "      <td>NaN</td>\n",
              "      <td>1,382,764,027,114</td>\n",
              "      <td>28410</td>\n",
              "      <td>Generation Z</td>\n",
              "    </tr>\n",
              "  </tbody>\n",
              "</table>\n",
              "<p>372 rows × 12 columns</p>\n",
              "</div>"
            ],
            "text/plain": [
              "                 country  year  ... gdp_per_capita ($)       generation\n",
              "20230  Republic of Korea  1985  ...               2731  G.I. Generation\n",
              "20231  Republic of Korea  1985  ...               2731  G.I. Generation\n",
              "20232  Republic of Korea  1985  ...               2731           Silent\n",
              "20233  Republic of Korea  1985  ...               2731          Boomers\n",
              "20234  Republic of Korea  1985  ...               2731     Generation X\n",
              "...                  ...   ...  ...                ...              ...\n",
              "20597  Republic of Korea  2015  ...              28410     Generation X\n",
              "20598  Republic of Korea  2015  ...              28410       Millenials\n",
              "20599  Republic of Korea  2015  ...              28410       Millenials\n",
              "20600  Republic of Korea  2015  ...              28410     Generation Z\n",
              "20601  Republic of Korea  2015  ...              28410     Generation Z\n",
              "\n",
              "[372 rows x 12 columns]"
            ]
          },
          "metadata": {},
          "execution_count": 23
        }
      ]
    },
    {
      "cell_type": "markdown",
      "metadata": {
        "id": "7vuGGGtefyrn"
      },
      "source": [
        "간단하게 75세 이상 남성들의 자살 현황을 그래프로 그려보았다. \n"
      ]
    },
    {
      "cell_type": "code",
      "metadata": {
        "id": "5oiqoUSdCuUe"
      },
      "source": [
        "import matplotlib.pyplot as plt"
      ],
      "execution_count": 24,
      "outputs": []
    },
    {
      "cell_type": "code",
      "metadata": {
        "colab": {
          "base_uri": "https://localhost:8080/",
          "height": 315
        },
        "id": "kUaNrI2ZDi8R",
        "outputId": "bb785586-283b-4108-ab5f-8c45cfcda8de"
      },
      "source": [
        "condition = (df.sex == 'male') & (df.age == '75+ years')\n",
        "df_kor_y75 = df_kor[condition]\n",
        "plt.plot(df_kor_y75.year, df_kor_y75.suicides_no)\n",
        "plt.xlabel('years')\n",
        "plt.ylabel('suicides_no')\n",
        "plt.show()"
      ],
      "execution_count": 27,
      "outputs": [
        {
          "output_type": "stream",
          "name": "stderr",
          "text": [
            "/usr/local/lib/python3.7/dist-packages/ipykernel_launcher.py:2: UserWarning: Boolean Series key will be reindexed to match DataFrame index.\n",
            "  \n"
          ]
        },
        {
          "output_type": "display_data",
          "data": {
            "image/png": "[encoded data removed]",
            "text/plain": [
              "<Figure size 432x288 with 1 Axes>"
            ]
          },
          "metadata": {
            "needs_background": "light"
          }
        }
      ]
    },
    {
      "cell_type": "markdown",
      "metadata": {
        "id": "-86Y3UrRgD7c"
      },
      "source": [
        "전체적으로 자살률이 연도가 증가함에따라 같이 증가하는 경향을 보였다. 하지만 여기서 인구 수 증가를 생각하지 않을 수 없다. 그래서 인구 수 증가에 따른 자살률을 그려볼 수 있었다."
      ]
    },
    {
      "cell_type": "code",
      "metadata": {
        "id": "0OEJP-4SHZyJ",
        "colab": {
          "base_uri": "https://localhost:8080/",
          "height": 315
        },
        "outputId": "9a41d091-8c81-434a-ceb6-e64c42987dfc"
      },
      "source": [
        "condition = (df.sex == 'male') & (df.age == '75+ years')\n",
        "df_kor.rename(columns={'suicides/100k pop' : 'suicides_rate'})\n",
        "df_kor_y75 = df_kor[condition]\n",
        "plt.plot(df_kor_y75.year, df_kor_y75.suicides_rate)\n",
        "plt.xlabel('years')\n",
        "plt.ylabel('suicides_rate')\n",
        "plt.show()"
      ],
      "execution_count": 33,
      "outputs": [
        {
          "output_type": "stream",
          "name": "stderr",
          "text": [
            "/usr/local/lib/python3.7/dist-packages/ipykernel_launcher.py:3: UserWarning: Boolean Series key will be reindexed to match DataFrame index.\n",
            "  This is separate from the ipykernel package so we can avoid doing imports until\n"
          ]
        },
        {
          "output_type": "display_data",
          "data": {
            "image/png": "[encoded data removed]",
            "text/plain": [
              "<Figure size 432x288 with 1 Axes>"
            ]
          },
          "metadata": {
            "needs_background": "light"
          }
        }
      ]
    },
    {
      "cell_type": "markdown",
      "metadata": {
        "id": "ByPqj-RBggqw"
      },
      "source": [
        "2000년대 초반에 급격하게 자살률이 높아진 것을 확인할 수 잇지만, 그 이후 자살률은 유지가되다, 2010년대에 들어서자 감소하는 추세를 확인할 수 있다. 따라서 2010년대를 기준으로 75세 이상의 남성 자살률은 증가하다가 감소하는 추세라고 말할 수 있다."
      ]
    },
    {
      "cell_type": "code",
      "metadata": {
        "id": "IdAuOf9VhFJN"
      },
      "source": [
        ""
      ],
      "execution_count": null,
      "outputs": []
    }
  ]
}